{
 "cells": [
  {
   "cell_type": "code",
   "execution_count": 1,
   "metadata": {
    "colab": {},
    "colab_type": "code",
    "executionInfo": {
     "elapsed": 1176,
     "status": "ok",
     "timestamp": 1595915848314,
     "user": {
      "displayName": "石佳宜",
      "photoUrl": "",
      "userId": "03631917489333459539"
     },
     "user_tz": -480
    },
    "id": "4_AyqGZs2Cfj"
   },
   "outputs": [],
   "source": [
    "# 匯入套件\n",
    "import requests\n",
    "import pandas as pd\n",
    "import json\n",
    "import re\n",
    "from lxml import etree\n",
    "import time\n",
    "#執行函式\n",
    "BRAND = \"淨妍醫美診所\"\n",
    "WEBSITE_URL = \"https://www.jinyenclinic.com\"\n",
    "\n",
    "\n",
    "def get_doctor_detail(url):\n",
    "    resp = requests.get(url)\n",
    "    root = etree.HTML(resp.content.decode('utf-8'))\n",
    "    result = {\n",
    "        \"brand\":BRAND,  \n",
    "        \"pic\":\"\".join(root.xpath(\"//section[@class='single-page-section dr']//img/@src\")), \n",
    "        \"doctor_name\":\"\".join(root.xpath(\"//section[@class='single-page-section dr']//img/@alt\")),\n",
    "#         \"store_name\":root.xpath(\"(//div[contains(@class,'cont')])[1]/text()\"),\n",
    "#         \"city\":\"\",\n",
    "#         \"address\":\"\",\n",
    "#         \"tel\":\"\",\n",
    "#         \"personal_website\":\"\",\n",
    "#         \"store_website\":\"\",\n",
    "#         \"specialty\":root.xpath(\"(//div[contains(@class,'cont')])[5]/text()\"),\n",
    "#         \"description\":\"\",\n",
    "#         \"case_study\":\"\",\n",
    "         \"experience\":root.xpath(\"(//section[@class='single-page-section dr']//div)[6]//text()\"),\n",
    "         \"education\":root.xpath(\"(//section[@class='single-page-section dr']//div)[5]//text()\") \n",
    "    }\n",
    "    return result\n",
    "def get_doctors():\n",
    "    result = []\n",
    "    resp = requests.get( f\"{WEBSITE_URL}/DoctorAll\")\n",
    "    root = etree.HTML(resp.content.decode('utf-8'))\n",
    "    doctor_urls = root.xpath(\"//section[@class='single-page-section dr-all']//a/@href\")\n",
    "    return list(map(lambda i: f\"{WEBSITE_URL}/{i}\", doctor_urls))\n",
    "\n",
    "doctor_list = get_doctors()\n",
    "doctor_details = []\n",
    "for idx,url in enumerate(doctor_list):\n",
    "    print(f\"{idx+1}/{len(doctor_list)}, {url}\")\n",
    "    doctor_details.append(get_doctor_detail(url))\n",
    "    \n",
    "for fir in range(len(doctor_details)):\n",
    "    for sec in range(len(doctor_details[fir]['education'])):\n",
    "        if doctor_details[fir]['education'][sec]=='/ 學歷 /':\n",
    "            doctor_details[fir]['education'][sec]=doctor_details[fir]['education'][sec].replace('/ 學歷 /','')\n",
    "        elif doctor_details[fir]['education'][sec]=='\\n':\n",
    "            doctor_details[fir]['education'][sec]=doctor_details[fir]['education'][sec].replace('\\n','')\n",
    "    while '' in doctor_details[fir]['education']:\n",
    "        doctor_details[fir]['education'].remove('')\n",
    "    doctor_details[fir]['education']=\",\".join(doctor_details[fir]['education'])\n",
    "    for sec in range(len(doctor_details[fir]['experience'])):\n",
    "        if doctor_details[fir]['experience'][sec]=='/ 經歷 /':\n",
    "            doctor_details[fir]['experience'][sec]=doctor_details[fir]['experience'][sec].replace('/ 經歷 /','')\n",
    "        elif doctor_details[fir]['experience'][sec]=='\\n':\n",
    "            doctor_details[fir]['experience'][sec]=doctor_details[fir]['experience'][sec].replace('\\n','')\n",
    "        doctor_details[fir]['experience']=[sub.replace('\\xa0', '').replace('●', '').replace('\\n', '') for sub in doctor_details[fir]['experience']]\n",
    "    while '' in doctor_details[fir]['experience']:\n",
    "        doctor_details[fir]['experience'].remove('')\n",
    "    doctor_details[fir]['experience']=\",\".join(doctor_details[fir]['experience'])\n",
    "    \n",
    "#執行程式\n",
    "FILE_NAME = BRAND\n",
    "today = time.strftime(\"%Y%m%d\")\n",
    "df = pd.DataFrame(doctor_details, columns=[\"brand\",\"pic\",\"doctor_name\",\"store_name\",\"city\",\"address\",\"tel\",\"personal_website\",\"store_website\",\"specialty\",\"description\",\"case_study\",\"experience\",\"education\"])\n",
    "df.to_csv(f\"{FILE_NAME}-{today}.csv\",index=False)"
   ]
  }
 ],
 "metadata": {
  "colab": {
   "authorship_tag": "ABX9TyMkH5Zk3A4awcukGmoKGc78",
   "collapsed_sections": [],
   "name": "維格診所.ipynb",
   "provenance": []
  },
  "kernelspec": {
   "display_name": "Python 3",
   "language": "python",
   "name": "python3"
  },
  "language_info": {
   "codemirror_mode": {
    "name": "ipython",
    "version": 3
   },
   "file_extension": ".py",
   "mimetype": "text/x-python",
   "name": "python",
   "nbconvert_exporter": "python",
   "pygments_lexer": "ipython3",
   "version": "3.8.3"
  }
 },
 "nbformat": 4,
 "nbformat_minor": 1
}
