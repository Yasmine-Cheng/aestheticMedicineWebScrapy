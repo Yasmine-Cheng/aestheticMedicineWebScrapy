{
 "cells": [
  {
   "cell_type": "code",
   "execution_count": 1,
   "metadata": {
    "colab": {},
    "colab_type": "code",
    "executionInfo": {
     "elapsed": 1176,
     "status": "ok",
     "timestamp": 1595915848314,
     "user": {
      "displayName": "石佳宜",
      "photoUrl": "",
      "userId": "03631917489333459539"
     },
     "user_tz": -480
    },
    "id": "4_AyqGZs2Cfj"
   },
   "outputs": [
    {
     "name": "stdout",
     "output_type": "stream",
     "text": [
      "1/29, https://www.jinyenclinic.com//醫師團隊-陳俊光總院長\n",
      "2/29, https://www.jinyenclinic.com//醫師團隊-周哲宇醫師\n",
      "3/29, https://www.jinyenclinic.com//醫師團隊-徐圭璋醫師\n",
      "4/29, https://www.jinyenclinic.com//醫師團隊-陳志軒醫師\n",
      "5/29, https://www.jinyenclinic.com//醫師團隊-劉厚耕醫師\n",
      "6/29, https://www.jinyenclinic.com//醫師團隊-陳承謙醫師\n",
      "7/29, https://www.jinyenclinic.com//醫師團隊-殷紹閔院長\n",
      "8/29, https://www.jinyenclinic.com//醫師團隊-謝忠佑醫師\n",
      "9/29, https://www.jinyenclinic.com//醫師團隊-蔡坤原醫師\n",
      "10/29, https://www.jinyenclinic.com//醫師團隊-曾俊夫院長\n",
      "11/29, https://www.jinyenclinic.com//醫師團隊-楊清淳醫師\n",
      "12/29, https://www.jinyenclinic.com//醫師團隊-謝綺瀅醫師\n",
      "13/29, https://www.jinyenclinic.com//醫師團隊-曾志閎醫師\n",
      "14/29, https://www.jinyenclinic.com//醫師團隊-吳佩謙醫師\n",
      "15/29, https://www.jinyenclinic.com//醫師團隊-王隆俊醫師\n",
      "16/29, https://www.jinyenclinic.com//醫師團隊-鄞愉文醫師\n",
      "17/29, https://www.jinyenclinic.com// 醫師團隊-林日新醫師\n",
      "18/29, https://www.jinyenclinic.com//醫師團隊-洪浩晃醫師\n",
      "19/29, https://www.jinyenclinic.com//醫師團隊-林添財醫師\n",
      "20/29, https://www.jinyenclinic.com// 醫師團隊-蔡宛君醫師\n",
      "21/29, https://www.jinyenclinic.com//醫師團隊-陳璟毅醫師\n",
      "22/29, https://www.jinyenclinic.com//醫師團隊-徐柏瑋\n",
      "23/29, https://www.jinyenclinic.com//醫師團隊-李岳樺\n",
      "24/29, https://www.jinyenclinic.com//醫師團隊-郭聿書\n",
      "25/29, https://www.jinyenclinic.com//醫療團隊-李振言醫師\n",
      "26/29, https://www.jinyenclinic.com//Doctor/3042\n",
      "27/29, https://www.jinyenclinic.com//Doctor/3043\n",
      "28/29, https://www.jinyenclinic.com//Doctor/3044\n",
      "29/29, https://www.jinyenclinic.com//醫師團隊-林君曄\n"
     ]
    }
   ],
   "source": [
    "# 匯入套件\n",
    "import requests\n",
    "import pandas as pd\n",
    "import json\n",
    "import re\n",
    "from lxml import etree\n",
    "import time\n",
    "#執行函式\n",
    "WEBSITE_URL = \"https://www.jinyenclinic.com\"\n",
    "\n",
    "\n",
    "def get_doctor_detail(url):\n",
    "    resp = requests.get(url)\n",
    "    root = etree.HTML(resp.content.decode('utf-8'))\n",
    "    result = {\n",
    "        \"doc_pic\":\"\".join(root.xpath(\"//section[@class='single-page-section dr']//img/@src\")), \n",
    "        \"doc_name\":\"\".join(root.xpath(\"//section[@class='single-page-section dr']//img/@alt\")),\n",
    "         \"doc_exp\":root.xpath(\"(//section[@class='single-page-section dr']//div)[6]//text()\"),\n",
    "         \"doc_edu\":root.xpath(\"(//section[@class='single-page-section dr']//div)[5]//text()\") \n",
    "    }\n",
    "    return result\n",
    "def get_doctors():\n",
    "    result = []\n",
    "    resp = requests.get( f\"{WEBSITE_URL}/DoctorAll\")\n",
    "    root = etree.HTML(resp.content.decode('utf-8'))\n",
    "    doctor_urls = root.xpath(\"//section[@class='single-page-section dr-all']//a/@href\")\n",
    "    return list(map(lambda i: f\"{WEBSITE_URL}/{i}\", doctor_urls))\n",
    "\n",
    "doctor_list = get_doctors()\n",
    "doctor_details = []\n",
    "for idx,url in enumerate(doctor_list):\n",
    "    print(f\"{idx+1}/{len(doctor_list)}, {url}\")\n",
    "    doctor_details.append(get_doctor_detail(url))\n",
    "    \n",
    "for fir in range(len(doctor_details)):\n",
    "    for sec in range(len(doctor_details[fir]['doc_edu'])):\n",
    "        if doctor_details[fir]['doc_edu'][sec]=='/ 學歷 /':\n",
    "            doctor_details[fir]['doc_edu'][sec].replace('/ 學歷 /','')\n",
    "        elif doctor_details[fir]['doc_edu'][sec]=='\\n':\n",
    "            doctor_details[fir]['doc_edu'][sec].replace('\\n','')\n",
    "    while '' in doctor_details[fir]['doc_edu']:\n",
    "        doctor_details[fir]['doc_edu'].remove('')\n",
    "    doctor_details[fir]['doc_edu']=\",\".join(doctor_details[fir]['doc_edu'])\n",
    "    for sec in range(len(doctor_details[fir]['doc_exp'])):\n",
    "        if doctor_details[fir]['doc_exp'][sec]=='/ 經歷 /':\n",
    "            doctor_details[fir]['doc_exp'][sec].replace('/ 經歷 /','')\n",
    "        elif doctor_details[fir]['doc_exp'][sec]=='\\n':\n",
    "            doctor_details[fir]['doc_exp'][sec].replace('\\n','')\n",
    "        doctor_details[fir]['doc_exp']=[sub.replace('\\xa0', '').replace('●', '').replace('\\n', '') for sub in doctor_details[fir]['doc_exp']]\n",
    "    while '' in doctor_details[fir]['doc_exp']:\n",
    "        doctor_details[fir]['doc_exp'].remove('')\n",
    "    doctor_details[fir]['doc_exp']=\",\".join(doctor_details[fir]['doc_exp'])\n",
    "    \n",
    "# #執行程式\n",
    "FILE_NAME = \"淨妍醫美\"\n",
    "today = time.strftime(\"%Y%m%d\")\n",
    "df = pd.DataFrame(doctor_details, columns=[\"doc_pic\",\"doc_name\",\"doc_exp\",\"doc_edu\"])\n",
    "df.to_csv(f\"{FILE_NAME}-{today}.csv\",index=False)"
   ]
  }
 ],
 "metadata": {
  "colab": {
   "authorship_tag": "ABX9TyMkH5Zk3A4awcukGmoKGc78",
   "collapsed_sections": [],
   "name": "維格診所.ipynb",
   "provenance": []
  },
  "kernelspec": {
   "display_name": "Python 3",
   "language": "python",
   "name": "python3"
  },
  "language_info": {
   "codemirror_mode": {
    "name": "ipython",
    "version": 3
   },
   "file_extension": ".py",
   "mimetype": "text/x-python",
   "name": "python",
   "nbconvert_exporter": "python",
   "pygments_lexer": "ipython3",
   "version": "3.8.3"
  }
 },
 "nbformat": 4,
 "nbformat_minor": 1
}
