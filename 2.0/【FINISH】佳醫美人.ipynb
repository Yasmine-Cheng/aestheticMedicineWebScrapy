{
 "cells": [
  {
   "cell_type": "markdown",
   "metadata": {},
   "source": [
    "# 匯入套件"
   ]
  },
  {
   "cell_type": "code",
   "execution_count": 1,
   "metadata": {},
   "outputs": [],
   "source": [
    "import requests\n",
    "import pandas as pd\n",
    "from lxml import etree\n",
    "from bs4 import BeautifulSoup as bs\n",
    "import json\n",
    "import ast\n",
    "import re\n",
    "import time\n",
    "from collections import defaultdict"
   ]
  },
  {
   "cell_type": "markdown",
   "metadata": {},
   "source": [
    "# 網頁檢索"
   ]
  },
  {
   "cell_type": "code",
   "execution_count": 2,
   "metadata": {},
   "outputs": [],
   "source": [
    "def request_all():\n",
    "    res = requests.get('https://www.beautyclinic.com.tw/page/doctors')\n",
    "    raw_data = etree.HTML(res.content.decode('utf-8'))\n",
    "    get_detail(raw_data)"
   ]
  },
  {
   "cell_type": "markdown",
   "metadata": {},
   "source": [
    "# 取得資訊"
   ]
  },
  {
   "cell_type": "code",
   "execution_count": 3,
   "metadata": {},
   "outputs": [],
   "source": [
    "def get_detail(raw_data):\n",
    "    getfromjs = raw_data.xpath(\"//*[@id='content']/script/text()\")\n",
    "    \n",
    "    #取得診所資訊\n",
    "    addr_data={}\n",
    "    for i in raw_data.xpath(\"//div[contains(@class,'col_half')]//li\")[:-1]:\n",
    "        key_ = i.xpath('text()')[0].split('/')[0].strip()\n",
    "        temp = i.xpath('div/text()')\n",
    "        val_ = {'cli_phone' : temp[0],'cli_addr' : temp[1]}\n",
    "        tempdict={key_:val_}\n",
    "        addr_data.update(tempdict)\n",
    "    #取得醫生資訊\n",
    "    data_to_df = list()\n",
    "    for each in getfromjs[0].split('docsRawData.push(')[1:]:\n",
    "        try:\n",
    "            data = eval(each.split(');')[0])\n",
    "            data['featured_img'] = 'https://www.beautyclinic.com.tw'+data['featured_img']\n",
    "            default=defaultdict(list)\n",
    "            for defaultidx in data['locations']:\n",
    "                for key, value in defaultidx.items():\n",
    "                    default[key].append(value)\n",
    "                data['locations']=dict(default)['name']  \n",
    "            raw_data = bs(data['intro'],'html5')\n",
    "            data['intro'] = raw_data.text\n",
    "            for loc_idx in range(len(data['locations'])):\n",
    "                if 'cli_phone' not in data:\n",
    "                    data.update(addr_data[data['locations'][loc_idx]])\n",
    "                else:\n",
    "                    data['cli_phone']=data['cli_phone']+','+''.join(addr_data[data['locations'][loc_idx]]['cli_phone'])\n",
    "                    data['cli_addr']=data['cli_addr']+','+''.join(addr_data[data['locations'][loc_idx]]['cli_addr'])\n",
    "            data['locations'] = ','.join(data['locations'])\n",
    "            data_to_df.append(data)\n",
    "        except SyntaxError:\n",
    "            pass\n",
    "        except Exception as err:\n",
    "            print('Error: ',err)\n",
    "    to_csv(data_to_df)"
   ]
  },
  {
   "cell_type": "markdown",
   "metadata": {},
   "source": [
    "# to_csv"
   ]
  },
  {
   "cell_type": "code",
   "execution_count": 4,
   "metadata": {
    "scrolled": true
   },
   "outputs": [],
   "source": [
    "def to_csv(data_to_df):\n",
    "    FILE_NAME = \"佳醫美人\"\n",
    "    today = time.strftime(\"%Y%m%d\")\n",
    "    df = pd.DataFrame(data_to_df)\n",
    "    df.rename(columns={'name':'doc_name',\"featured_img\":\"doc_pic\",'locations':'countries','intro':'doc_edu_exp',\"sp\":\"doc_prof\"}, inplace=True)\n",
    "    df.drop(['id', 'job','ename'], axis=1, inplace=True)\n",
    "    df.to_csv(f\"{FILE_NAME}-{today}.csv\",index=False)"
   ]
  },
  {
   "cell_type": "markdown",
   "metadata": {},
   "source": [
    "# 執行程式"
   ]
  },
  {
   "cell_type": "code",
   "execution_count": 5,
   "metadata": {},
   "outputs": [],
   "source": [
    "request_all()"
   ]
  }
 ],
 "metadata": {
  "kernelspec": {
   "display_name": "Python 3",
   "language": "python",
   "name": "python3"
  },
  "language_info": {
   "codemirror_mode": {
    "name": "ipython",
    "version": 3
   },
   "file_extension": ".py",
   "mimetype": "text/x-python",
   "name": "python",
   "nbconvert_exporter": "python",
   "pygments_lexer": "ipython3",
   "version": "3.8.3"
  }
 },
 "nbformat": 4,
 "nbformat_minor": 2
}
