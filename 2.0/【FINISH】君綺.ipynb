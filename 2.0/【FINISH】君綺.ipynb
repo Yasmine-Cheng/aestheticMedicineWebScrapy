{
 "cells": [
  {
   "cell_type": "markdown",
   "metadata": {},
   "source": [
    "# 匯入套件"
   ]
  },
  {
   "cell_type": "code",
   "execution_count": 1,
   "metadata": {},
   "outputs": [],
   "source": [
    "from selenium import webdriver\n",
    "import time\n",
    "from selenium.webdriver.common.action_chains import ActionChains\n",
    "from bs4 import BeautifulSoup\n",
    "import re\n",
    "import pandas as pd"
   ]
  },
  {
   "cell_type": "markdown",
   "metadata": {},
   "source": [
    "# 函式部分"
   ]
  },
  {
   "cell_type": "code",
   "execution_count": 2,
   "metadata": {
    "scrolled": true
   },
   "outputs": [],
   "source": [
    "#建立存取資料\n",
    "doc_name=[]\n",
    "doc_edu_exp=[]\n",
    "doc_pic=[]\n",
    "#開啟整形外科團隊\n",
    "driver=webdriver.Chrome()\n",
    "driver.get('https://www.jing-chi.com.tw')\n",
    "driver.set_window_size(800,1000)\n",
    "driver.find_element_by_xpath(\"/html/body/navbar/div[2]/div/div[1]/button/span\").click()\n",
    "time.sleep(1)\n",
    "driver.find_element_by_xpath(\"//*[@id='nav_about']\").click()\n",
    "driver.find_element_by_xpath(\"//*[@id='navbarNav']/ul/li[6]/ul/li[4]/span\").click()\n",
    "time.sleep(2)\n",
    "driver.find_element_by_xpath(\"//*[@id='navbarNav']/ul/li[6]/ul/li[4]/ul/li[1]/a\").click()\n",
    "time.sleep(3)\n",
    "#爬取整形外科團隊資料\n",
    "for doc_names in driver.find_elements_by_xpath(\"//div[@class='doctor_name']//following-sibling::p[last()-1]\"):\n",
    "    doc_name.append(doc_names.text)    \n",
    "for doc_edu_exps in driver.find_elements_by_xpath(\"//div[@class='doctor']//following-sibling::ul[last()]\"):\n",
    "    doc_edu_exp.append(doc_edu_exps.text)\n",
    "tempsrc=driver.find_elements_by_xpath(\"//li[contains(@name,'doctor')]//img\")\n",
    "for ele in tempsrc:\n",
    "    doc_pics=ele.get_attribute(\"src\")\n",
    "    doc_pic+=[doc_pics]\n",
    "#開啟微整美型團隊\n",
    "driver.find_element_by_xpath(\"/html/body/navbar/div[2]/div/div[1]/button/span\").click()\n",
    "time.sleep(1)\n",
    "driver.find_element_by_xpath(\"//*[@id='nav_about']\").click()\n",
    "driver.find_element_by_xpath(\"//*[@id='navbarNav']/ul/li[6]/ul/li[4]/span\").click()\n",
    "time.sleep(2)\n",
    "driver.find_element_by_xpath(\"//*[@id='navbarNav']/ul/li[6]/ul/li[4]/ul/li[2]/a\").click()\n",
    "time.sleep(3)\n",
    "#爬取微整美型團隊資料\n",
    "for doc_names in driver.find_elements_by_xpath(\"//div[@class='doctor_name']//following-sibling::p[last()-1]\"):\n",
    "    doc_name.append(doc_names.text)    \n",
    "for doc_edu_exps in driver.find_elements_by_xpath(\"//div[@class='doctor']//following-sibling::ul[last()]\"):\n",
    "    doc_edu_exp.append(doc_edu_exps.text) \n",
    "tempsrc=driver.find_elements_by_xpath(\"//li[contains(@name,'doctor')]//img\")\n",
    "for ele in tempsrc:\n",
    "    doc_pics=ele.get_attribute(\"src\")\n",
    "    doc_pic+=[doc_pics]"
   ]
  },
  {
   "cell_type": "code",
   "execution_count": 3,
   "metadata": {},
   "outputs": [],
   "source": [
    "#將資料若出現\\n則替換掉  join\n",
    "doc_name = [w.replace('\\n', '、') for w in doc_name]\n",
    "doc_edu_exp = [w.replace('\\n', '、') for w in doc_edu_exp]\n",
    "doc_pic = [w.replace('\\n', '、') for w in doc_pic]"
   ]
  },
  {
   "cell_type": "markdown",
   "metadata": {},
   "source": [
    "# 執行程式"
   ]
  },
  {
   "cell_type": "code",
   "execution_count": 4,
   "metadata": {},
   "outputs": [],
   "source": [
    "# FILE_PATH = \"/content/drive/My Drive/DLAB/醫美診所爬蟲-一版\"\n",
    "FILE_NAME = '君綺醫美'\n",
    "today = time.strftime(\"%Y%m%d\")\n",
    "df=pd.DataFrame({'doc_name':doc_name,\"doc_edu_exp\":doc_edu_exp,'doc_pic':doc_pic})\n",
    "df.to_csv(f\"{FILE_NAME}-{today}.csv\",index=False)"
   ]
  }
 ],
 "metadata": {
  "kernelspec": {
   "display_name": "Python 3",
   "language": "python",
   "name": "python3"
  },
  "language_info": {
   "codemirror_mode": {
    "name": "ipython",
    "version": 3
   },
   "file_extension": ".py",
   "mimetype": "text/x-python",
   "name": "python",
   "nbconvert_exporter": "python",
   "pygments_lexer": "ipython3",
   "version": "3.8.3"
  }
 },
 "nbformat": 4,
 "nbformat_minor": 4
}
