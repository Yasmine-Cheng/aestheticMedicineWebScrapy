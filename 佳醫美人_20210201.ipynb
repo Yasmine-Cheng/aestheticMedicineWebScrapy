{
 "cells": [
  {
   "cell_type": "markdown",
   "metadata": {},
   "source": [
    "# 匯入套件"
   ]
  },
  {
   "cell_type": "code",
   "execution_count": 1,
   "metadata": {},
   "outputs": [],
   "source": [
    "import requests\n",
    "import pandas as pd\n",
    "from lxml import etree\n",
    "from bs4 import BeautifulSoup\n",
    "import json\n",
    "import ast\n",
    "import re\n",
    "import time"
   ]
  },
  {
   "cell_type": "markdown",
   "metadata": {},
   "source": [
    "# 網頁檢索"
   ]
  },
  {
   "cell_type": "code",
   "execution_count": 2,
   "metadata": {},
   "outputs": [],
   "source": [
    "res_each = requests.get('https://www.beautyclinic.com.tw/page/doctors')\n",
    "raw_data_each = etree.HTML(res_each.content.decode('utf-8'))\n",
    "temp = raw_data_each.xpath(\"//*[@id='content']/script/text()\")"
   ]
  },
  {
   "cell_type": "markdown",
   "metadata": {},
   "source": [
    "# 取得診所資訊"
   ]
  },
  {
   "cell_type": "code",
   "execution_count": 3,
   "metadata": {},
   "outputs": [],
   "source": [
    "clinicname=[]\n",
    "detect=raw_data_each.xpath(\"//div[contains(@class,'col_half')]//li[position()>=0 and position()<=4]/text()\")\n",
    "for i in range(len(detect)):\n",
    "    clinicname.append(detect[i].split(' /')[0].strip())\n",
    "    okclinicname = [t for t in clinicname if t != '']\n",
    "# 抓取各家診所資訊(地址﹑電話﹑網址﹑城市)\n",
    "otherinfo = {\n",
    "    okclinicname[0]:{\n",
    "        \"address\":raw_data_each.xpath(\"//div[contains(@class,'col_half')]//li[1]/div/text()[2]\"),\n",
    "        \"tel\":raw_data_each.xpath(\"//div[contains(@class,'col_half')]//li[1]/div/text()[1]\"),\n",
    "        \"store_website\":raw_data_each.xpath(\"//*[@id='main-menu']/li[10]/ul/li[1]/a/@href\"),\n",
    "        \"city\":okclinicname[0]\n",
    "    },okclinicname[1]:{\n",
    "        \"address\":raw_data_each.xpath(\"//div[contains(@class,'col_half')]//li[2]/div/text()[2]\"),\n",
    "        \"tel\":raw_data_each.xpath(\"//div[contains(@class,'col_half')]//li[2]/div/text()[1]\"),\n",
    "        \"store_website\":raw_data_each.xpath(\"//*[@id='main-menu']/li[10]/ul/li[2]/a/@href\"),\n",
    "        \"city\":okclinicname[1]\n",
    "    },okclinicname[2]:{\n",
    "        \"address\":raw_data_each.xpath(\"//div[contains(@class,'col_half')]//li[3]/div/text()[2]\"),\n",
    "        \"tel\":raw_data_each.xpath(\"//div[contains(@class,'col_half')]//li[3]/div/text()[1]\"),\n",
    "        \"store_website\":raw_data_each.xpath(\"//*[@id='main-menu']/li[10]/ul/li[3]/a/@href\"),\n",
    "        \"city\":okclinicname[2]\n",
    "    },okclinicname[3]:{\n",
    "        \"address\":raw_data_each.xpath(\"//div[contains(@class,'col_half')]//li[4]/div/text()[2]\"),\n",
    "        \"tel\":raw_data_each.xpath(\"//div[contains(@class,'col_half')]//li[4]/div/text()[1]\"),\n",
    "        \"store_website\":raw_data_each.xpath(\"//*[@id='main-menu']/li[10]/ul/li[4]/a/@href\"),\n",
    "        \"city\":okclinicname[3]\n",
    "    }\n",
    "  }\n",
    "store_brand={\n",
    "    \"brand\":\"佳醫美人\"\n",
    "    }"
   ]
  },
  {
   "cell_type": "markdown",
   "metadata": {},
   "source": [
    "# DICT整理成適合JSON"
   ]
  },
  {
   "cell_type": "code",
   "execution_count": 4,
   "metadata": {},
   "outputs": [],
   "source": [
    "def fitdict():\n",
    "# 刪除不需要的資訊\n",
    "    temp[0]=temp[0].split(\"docsRawData.push(\")\n",
    "    del temp[0][0]\n",
    "    temp[0]= ''.join(temp[0])\n",
    "    temp[0]=temp[0].split(\");\\n\\t\")\n",
    "    temp[0][-1]=temp[0][-1].split(');\\n\\njQuery.each(')\n",
    "    del temp[0][-1][-1]\n",
    "    return temp[0]"
   ]
  },
  {
   "cell_type": "markdown",
   "metadata": {},
   "source": [
    "# JSON"
   ]
  },
  {
   "cell_type": "code",
   "execution_count": 5,
   "metadata": {},
   "outputs": [],
   "source": [
    "def tojson():    \n",
    "    fitdict()\n",
    "    for x in range(len(temp[0])-1):\n",
    "        temp[0][x]=ast.literal_eval(temp[0][x])\n",
    "    temp[0][x+1]=ast.literal_eval(temp[0][-1][0])\n",
    "    return temp"
   ]
  },
  {
   "cell_type": "markdown",
   "metadata": {},
   "source": [
    "# intro取文字部分"
   ]
  },
  {
   "cell_type": "code",
   "execution_count": 6,
   "metadata": {},
   "outputs": [],
   "source": [
    "def rectifyintro():\n",
    "    tojson()\n",
    "    for x in range(len(temp[0])):\n",
    "        a=temp[0][x]['intro']\n",
    "        soup=BeautifulSoup(a,'html.parser')\n",
    "        temp[0][x]['intro']=soup.text\n",
    "    return temp[0]"
   ]
  },
  {
   "cell_type": "markdown",
   "metadata": {},
   "source": [
    "# 更改圖片格式"
   ]
  },
  {
   "cell_type": "code",
   "execution_count": 7,
   "metadata": {},
   "outputs": [],
   "source": [
    "def changeimgform():\n",
    "    rectifyintro()\n",
    "    for x in range(len(temp[0])):\n",
    "        temp[0][x]['featured_img']=(f\"https://www.beautyclinic.com.tw{temp[0][x]['featured_img']}\")\n",
    "    return temp[0]"
   ]
  },
  {
   "cell_type": "markdown",
   "metadata": {},
   "source": [
    "# DF"
   ]
  },
  {
   "cell_type": "code",
   "execution_count": 8,
   "metadata": {
    "scrolled": true
   },
   "outputs": [],
   "source": [
    "FILE_NAME = \"佳醫美人\"\n",
    "today = time.strftime(\"%Y%m%d\")\n",
    "df = pd.DataFrame(changeimgform(),columns=['id','name','featured_img','locations','intro','job','sp','ename'])"
   ]
  },
  {
   "cell_type": "markdown",
   "metadata": {},
   "source": [
    "# 每筆診所資訊(分隔)"
   ]
  },
  {
   "cell_type": "code",
   "execution_count": 9,
   "metadata": {},
   "outputs": [],
   "source": [
    "def cleartext(x):\n",
    "    if okclinicname[x] in df.loc[fir]['locations'][sec]['name']:\n",
    "        df['address'][fir]=df.loc[fir]['address']+\",\".join(otherinfo[okclinicname[x]]['address'])+\"  \"\n",
    "        df['city'][fir]=df.loc[fir]['city']+\"\".join(otherinfo[okclinicname[x]]['city'])+\"  \"\n",
    "        df['tel'][fir]=df.loc[fir]['tel']+\",\".join(otherinfo[okclinicname[x]]['tel'])+\"  \"\n",
    "        df['store_website'][fir]=df.loc[fir]['store_website']+\",\".join(otherinfo[okclinicname[x]]['store_website'])+\"  \""
   ]
  },
  {
   "cell_type": "markdown",
   "metadata": {},
   "source": [
    "# df增加診所資訊"
   ]
  },
  {
   "cell_type": "code",
   "execution_count": 10,
   "metadata": {},
   "outputs": [],
   "source": [
    "df['address']=''\n",
    "df['tel']=''\n",
    "df['store_website']=''\n",
    "df['city']=''\n",
    "df['brand']=''\n",
    "for fir in range(len(df['locations'])):\n",
    "    for sec in range(len(df.loc[fir]['locations'])):\n",
    "        for thi in range(4):\n",
    "            cleartext(thi)\n",
    "    df['brand'][fir]=\"\".join(store_brand['brand'])"
   ]
  },
  {
   "cell_type": "markdown",
   "metadata": {},
   "source": [
    "# CSV"
   ]
  },
  {
   "cell_type": "code",
   "execution_count": 11,
   "metadata": {},
   "outputs": [],
   "source": [
    "df.rename(columns={'name':'doctor_name',\"featured_img\":\"pic\",\"sp\":\"specialty\",\"intro\":\"experience\"}, inplace=True)\n",
    "df.drop(['id', 'locations','ename'], axis=1, inplace=True)\n",
    "df = pd.DataFrame(df,columns=[\"brand\",\"pic\",\"doctor_name\",\"store_name\",\"city\",\"address\",\"tel\",\"personal_website\",\"store_website\",\"specialty\",\"description\",\"case_study\",\"experience\",\"education\"])\n",
    "df.to_csv(f\"{FILE_NAME}-{today}.csv\",index=False)"
   ]
  }
 ],
 "metadata": {
  "kernelspec": {
   "display_name": "Python 3",
   "language": "python",
   "name": "python3"
  },
  "language_info": {
   "codemirror_mode": {
    "name": "ipython",
    "version": 3
   },
   "file_extension": ".py",
   "mimetype": "text/x-python",
   "name": "python",
   "nbconvert_exporter": "python",
   "pygments_lexer": "ipython3",
   "version": "3.8.3"
  }
 },
 "nbformat": 4,
 "nbformat_minor": 2
}
